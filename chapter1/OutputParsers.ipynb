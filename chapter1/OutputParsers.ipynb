{
 "cells": [
  {
   "cell_type": "code",
   "execution_count": null,
   "id": "add2cffc",
   "metadata": {},
   "outputs": [
    {
     "data": {
      "text/plain": [
       "True"
      ]
     },
     "execution_count": 1,
     "metadata": {},
     "output_type": "execute_result"
    }
   ],
   "source": [
    "from dotenv import load_dotenv\n",
    "from langchain_core.prompts import PromptTemplate\n",
    "from langchain_google_genai import ChatGoogleGenerativeAI\n",
    "from langchain.output_parsers import StructuredOutputParser, ResponseSchema\n",
    "from langchain_core.output_parsers import (\n",
    "    StrOutputParser,\n",
    "    JsonOutputParser,\n",
    "    PydanticOutputParser,\n",
    ")\n",
    "from pydantic import BaseModel, Field\n",
    "from typing import Literal\n",
    "\n",
    "load_dotenv()"
   ]
  },
  {
   "cell_type": "code",
   "execution_count": 2,
   "id": "c3279f92",
   "metadata": {},
   "outputs": [
    {
     "name": "stdout",
     "output_type": "stream",
     "text": [
      "A black hole is a region in spacetime with gravity so strong that nothing, not even light, can escape its pull.\n"
     ]
    }
   ],
   "source": [
    "# 1. Define the Gemini model\n",
    "model = ChatGoogleGenerativeAI(model=\"gemini-2.0-flash\")\n",
    "\n",
    "parser = StrOutputParser()\n",
    "\n",
    "prompt = PromptTemplate.from_template(\"Explain {topic} in one sentence.\")\n",
    "\n",
    "chain = prompt | model | parser\n",
    "\n",
    "result = chain.invoke({\"topic\": \"black hole\"})\n",
    "print(result)"
   ]
  },
  {
   "cell_type": "code",
   "execution_count": 7,
   "id": "1d7eceb4",
   "metadata": {},
   "outputs": [
    {
     "name": "stdout",
     "output_type": "stream",
     "text": [
      "{'baseball_facts': [{'fact': 'The highest recorded batting average in a single MLB season is .424, achieved by Rogers Hornsby in 1924 while playing for the St. Louis Cardinals.'}, {'fact': \"The 'Curse of the Bambino' supposedly plagued the Boston Red Sox for 86 years after they sold Babe Ruth to the New York Yankees in 1919, finally ending with their World Series victory in 2004.\"}]}\n"
     ]
    }
   ],
   "source": [
    "# 1. Define the Gemini model\n",
    "model = ChatGoogleGenerativeAI(model=\"gemini-2.0-flash\")\n",
    "\n",
    "# 2. Define JSON output parser\n",
    "parser = JsonOutputParser()\n",
    "\n",
    "# 3. Create prompt with structured output instructions\n",
    "template = PromptTemplate(\n",
    "    template=\"Give me 2 facts about {topic} \\n{format_instruction}\",\n",
    "    input_variables=[\"topic\"],\n",
    "    partial_variables={\"format_instruction\": parser.get_format_instructions()}\n",
    ")\n",
    "\n",
    "# 4. Create the chain using LCEL pipe operator\n",
    "chain = template | model | parser\n",
    "\n",
    "# 5. Invoke the chain\n",
    "result = chain.invoke({\"topic\": \"Baseball\"})\n",
    "\n",
    "# 6. Print result\n",
    "print(result)"
   ]
  },
  {
   "cell_type": "code",
   "execution_count": 19,
   "id": "2539e505",
   "metadata": {},
   "outputs": [
    {
     "name": "stdout",
     "output_type": "stream",
     "text": [
      "{'fact_1': 'The highest recorded batting average in a single MLB season is .424, achieved by Rogers Hornsby in 1924.', 'fact_2': 'The baseball used in Major League Baseball has 108 double stitches.'}\n"
     ]
    }
   ],
   "source": [
    "schema = [\n",
    "    ResponseSchema(name='fact_1', description='Fact 1 about the topic'),\n",
    "    ResponseSchema(name='fact_2', description='Fact 2 about the topic'),\n",
    "]\n",
    "\n",
    "parser = StructuredOutputParser.from_response_schemas(schema)\n",
    "\n",
    "template = PromptTemplate(\n",
    "    template='Give 2 fact about {topic} \\n {format_instruction}',\n",
    "    input_variables=['topic'],\n",
    "    partial_variables={'format_instruction':parser.get_format_instructions()}\n",
    ")\n",
    "\n",
    "chain = template | model | parser\n",
    "\n",
    "result = chain.invoke({'topic':'baseball'})\n",
    "\n",
    "print(result)"
   ]
  },
  {
   "cell_type": "code",
   "execution_count": 16,
   "id": "daca3a1b",
   "metadata": {},
   "outputs": [
    {
     "name": "stdout",
     "output_type": "stream",
     "text": [
      "city='Tokyo' temperature_c=25.0 condition='sunny'\n"
     ]
    }
   ],
   "source": [
    "class WeatherReport(BaseModel):\n",
    "    city: str = Field(description=\"Name of the city\")\n",
    "    temperature_c: float = Field(description=\"Temperature in Celsius\")\n",
    "    condition: Literal[\"sunny\", \"rainy\", \"cloudy\", \"snowy\"]\n",
    "\n",
    "parser = PydanticOutputParser(pydantic_object=WeatherReport)\n",
    "\n",
    "prompt = PromptTemplate(\n",
    "    template=\"Provide a weather report for Tokyo in this format:\\n{format_instruction}\",\n",
    "    input_variables=[],\n",
    "    partial_variables={\"format_instruction\": parser.get_format_instructions()},\n",
    ")\n",
    "\n",
    "chain = prompt | model | parser\n",
    "\n",
    "result = chain.invoke({})\n",
    "print(result)"
   ]
  },
  {
   "cell_type": "markdown",
   "id": "f05c0952",
   "metadata": {},
   "source": []
  }
 ],
 "metadata": {
  "kernelspec": {
   "display_name": "llm-venv",
   "language": "python",
   "name": "python3"
  },
  "language_info": {
   "codemirror_mode": {
    "name": "ipython",
    "version": 3
   },
   "file_extension": ".py",
   "mimetype": "text/x-python",
   "name": "python",
   "nbconvert_exporter": "python",
   "pygments_lexer": "ipython3",
   "version": "3.10.18"
  }
 },
 "nbformat": 4,
 "nbformat_minor": 5
}
