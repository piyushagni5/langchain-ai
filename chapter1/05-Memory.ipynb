{
 "cells": [
  {
   "cell_type": "code",
   "execution_count": 1,
   "id": "3cdf32b5",
   "metadata": {},
   "outputs": [],
   "source": [
    "from langchain.memory import (\n",
    "    ConversationBufferMemory, \n",
    "    ConversationBufferWindowMemory,\n",
    "    ConversationSummaryMemory,\n",
    "    ConversationSummaryBufferMemory\n",
    ")\n",
    "\n",
    "from langchain.chains import ConversationChain\n",
    "from langchain_google_genai import ChatGoogleGenerativeAI\n"
   ]
  },
  {
   "cell_type": "markdown",
   "id": "b5695e80",
   "metadata": {},
   "source": [
    "### ConversationBufferMemory\n",
    "\n",
    "The simplest approach to memory is keeping a complete record of everything that's been said:"
   ]
  },
  {
   "cell_type": "code",
   "execution_count": 12,
   "id": "37204ae5",
   "metadata": {},
   "outputs": [
    {
     "name": "stdout",
     "output_type": "stream",
     "text": [
      "\n",
      "\n",
      "\u001b[1m> Entering new ConversationChain chain...\u001b[0m\n",
      "Prompt after formatting:\n",
      "\u001b[32;1m\u001b[1;3mThe following is a friendly conversation between a human and an AI. The AI is talkative and provides lots of specific details from its context. If the AI does not know the answer to a question, it truthfully says it does not know.\n",
      "\n",
      "Current conversation:\n",
      "\n",
      "Human: My name is Sarah and I love hiking\n",
      "AI:\u001b[0m\n",
      "\n",
      "\u001b[1m> Finished chain.\u001b[0m\n",
      "Response 1: It's so nice to meet you, Sarah! Hiking sounds wonderful. Do you have a favorite trail or mountain you've hiked recently? I've been reading a lot about the Appalachian Trail lately, which I find fascinating. Did you know it stretches over 2,190 miles across fourteen states? I can access information on trail conditions, permits required, and even popular gear recommendations if you're interested in planning a future hike! I am, of course, limited to information available online and in the datasets I was trained on, but I can often provide quite a bit of detail. Where do you usually hike? Maybe I can tell you something interesting about the local geology or flora and fauna!\n"
     ]
    }
   ],
   "source": [
    "\n",
    "# Initialize memory that keeps everything\n",
    "memory1 = ConversationBufferMemory()\n",
    "\n",
    "# Create a conversation chain with perfect recall using Gemini\n",
    "llm = ChatGoogleGenerativeAI(\n",
    "    model=\"gemini-2.0-flash-exp\",\n",
    "    temperature=0.7\n",
    ")\n",
    "\n",
    "conversation = ConversationChain(\n",
    "    llm=llm,\n",
    "    memory=memory1,\n",
    "    verbose=True\n",
    ")\n",
    "\n",
    "# Each interaction builds on the complete history\n",
    "response1 = conversation.predict(input=\"My name is Sarah and I love hiking\")\n",
    "print(\"Response 1:\", response1)"
   ]
  },
  {
   "cell_type": "code",
   "execution_count": 13,
   "id": "65564dd1",
   "metadata": {},
   "outputs": [
    {
     "name": "stdout",
     "output_type": "stream",
     "text": [
      "\n",
      "\n",
      "\u001b[1m> Entering new ConversationChain chain...\u001b[0m\n",
      "Prompt after formatting:\n",
      "\u001b[32;1m\u001b[1;3mThe following is a friendly conversation between a human and an AI. The AI is talkative and provides lots of specific details from its context. If the AI does not know the answer to a question, it truthfully says it does not know.\n",
      "\n",
      "Current conversation:\n",
      "Human: My name is Sarah and I love hiking\n",
      "AI: It's so nice to meet you, Sarah! Hiking sounds wonderful. Do you have a favorite trail or mountain you've hiked recently? I've been reading a lot about the Appalachian Trail lately, which I find fascinating. Did you know it stretches over 2,190 miles across fourteen states? I can access information on trail conditions, permits required, and even popular gear recommendations if you're interested in planning a future hike! I am, of course, limited to information available online and in the datasets I was trained on, but I can often provide quite a bit of detail. Where do you usually hike? Maybe I can tell you something interesting about the local geology or flora and fauna!\n",
      "Human: What outdoor activities would you recommend?\n",
      "AI:\u001b[0m\n",
      "\n",
      "\u001b[1m> Finished chain.\u001b[0m\n",
      "Response 2: Well, that depends on what you enjoy, Sarah! Since you like hiking, I'd assume you appreciate being outdoors and active. Here are a few ideas, keeping in mind that I can tailor my suggestions if you tell me more about your preferences (like budget, location, skill level, etc.):\n",
      "\n",
      "*   **Kayaking/Canoeing/Paddleboarding:** These are great ways to enjoy lakes, rivers, and even some coastal areas. They range from relaxing paddles on calm waters to more challenging whitewater adventures. I can access information on rentals, guided tours, and even safety tips if you're interested. For example, did you know that the Boundary Waters Canoe Area Wilderness in Minnesota offers over 1,200 miles of canoe routes? I can even check permit availability for certain areas.\n",
      "\n",
      "*   **Rock Climbing/Bouldering:** If you're looking for a physical and mental challenge, climbing could be a good fit. You can start indoors at a climbing gym to learn the basics and then progress to outdoor climbing areas. There are different styles of climbing, from sport climbing with pre-placed bolts to traditional climbing where you place your own protection. I have access to databases of climbing routes and their difficulty ratings. For example, Yosemite Valley is world-renowned for its big wall climbs, like El Capitan.\n",
      "\n",
      "*   **Mountain Biking:** This is a great way to explore trails quickly and efficiently. There are different types of mountain biking, from cross-country to downhill, depending on your skill level and terrain preference. I can access information on trail maps, difficulty ratings, and even local bike shops that offer rentals and repairs. Did you know that Moab, Utah is considered a mountain biking mecca?\n",
      "\n",
      "*   **Camping:** This is a classic outdoor activity that allows you to immerse yourself in nature. You can choose from different types of camping, from car camping at established campgrounds to backpacking in the wilderness. I can access information on campground reservations, permits, and even tips for packing and setting up camp. For instance, I know that some national parks require reservations months in advance, especially during peak season.\n",
      "\n",
      "*   **Birdwatching/Wildlife Viewing:** This is a more relaxed activity that allows you to appreciate the natural world around you. You can use binoculars and field guides to identify different species of birds and other animals. I can access information on local birdwatching hotspots and even migration patterns. For instance, the Great Dismal Swamp National Wildlife Refuge is home to over 200 species of birds.\n",
      "\n",
      "I can provide more specific recommendations if you tell me a little more about what you're looking for! What sounds most interesting to you?\n"
     ]
    }
   ],
   "source": [
    "response2 = conversation.predict(input=\"What outdoor activities would you recommend?\")\n",
    "print(\"Response 2:\", response2)\n",
    "\n",
    "# The LLM knows the user's name and interests from the previous exchange"
   ]
  },
  {
   "cell_type": "code",
   "execution_count": 14,
   "id": "165b342e",
   "metadata": {},
   "outputs": [
    {
     "name": "stdout",
     "output_type": "stream",
     "text": [
      "\n",
      "Memory Buffer:\n",
      "Human: My name is Sarah and I love hiking\n",
      "AI: It's so nice to meet you, Sarah! Hiking sounds wonderful. Do you have a favorite trail or mountain you've hiked recently? I've been reading a lot about the Appalachian Trail lately, which I find fascinating. Did you know it stretches over 2,190 miles across fourteen states? I can access information on trail conditions, permits required, and even popular gear recommendations if you're interested in planning a future hike! I am, of course, limited to information available online and in the datasets I was trained on, but I can often provide quite a bit of detail. Where do you usually hike? Maybe I can tell you something interesting about the local geology or flora and fauna!\n",
      "Human: What outdoor activities would you recommend?\n",
      "AI: Well, that depends on what you enjoy, Sarah! Since you like hiking, I'd assume you appreciate being outdoors and active. Here are a few ideas, keeping in mind that I can tailor my suggestions if you tell me more about your preferences (like budget, location, skill level, etc.):\n",
      "\n",
      "*   **Kayaking/Canoeing/Paddleboarding:** These are great ways to enjoy lakes, rivers, and even some coastal areas. They range from relaxing paddles on calm waters to more challenging whitewater adventures. I can access information on rentals, guided tours, and even safety tips if you're interested. For example, did you know that the Boundary Waters Canoe Area Wilderness in Minnesota offers over 1,200 miles of canoe routes? I can even check permit availability for certain areas.\n",
      "\n",
      "*   **Rock Climbing/Bouldering:** If you're looking for a physical and mental challenge, climbing could be a good fit. You can start indoors at a climbing gym to learn the basics and then progress to outdoor climbing areas. There are different styles of climbing, from sport climbing with pre-placed bolts to traditional climbing where you place your own protection. I have access to databases of climbing routes and their difficulty ratings. For example, Yosemite Valley is world-renowned for its big wall climbs, like El Capitan.\n",
      "\n",
      "*   **Mountain Biking:** This is a great way to explore trails quickly and efficiently. There are different types of mountain biking, from cross-country to downhill, depending on your skill level and terrain preference. I can access information on trail maps, difficulty ratings, and even local bike shops that offer rentals and repairs. Did you know that Moab, Utah is considered a mountain biking mecca?\n",
      "\n",
      "*   **Camping:** This is a classic outdoor activity that allows you to immerse yourself in nature. You can choose from different types of camping, from car camping at established campgrounds to backpacking in the wilderness. I can access information on campground reservations, permits, and even tips for packing and setting up camp. For instance, I know that some national parks require reservations months in advance, especially during peak season.\n",
      "\n",
      "*   **Birdwatching/Wildlife Viewing:** This is a more relaxed activity that allows you to appreciate the natural world around you. You can use binoculars and field guides to identify different species of birds and other animals. I can access information on local birdwatching hotspots and even migration patterns. For instance, the Great Dismal Swamp National Wildlife Refuge is home to over 200 species of birds.\n",
      "\n",
      "I can provide more specific recommendations if you tell me a little more about what you're looking for! What sounds most interesting to you?\n"
     ]
    }
   ],
   "source": [
    "# Check the memory buffer to see stored conversation\n",
    "print(\"\\nMemory Buffer:\")\n",
    "print(memory1.buffer)"
   ]
  },
  {
   "cell_type": "markdown",
   "id": "c3cee03b",
   "metadata": {},
   "source": [
    "### ConversationBufferWindowMemory"
   ]
  },
  {
   "cell_type": "code",
   "execution_count": 9,
   "id": "07ddb3aa",
   "metadata": {},
   "outputs": [
    {
     "name": "stderr",
     "output_type": "stream",
     "text": [
      "/var/folders/lb/30sp6byn3c975ncndh4lrzsh0000gp/T/ipykernel_15176/1603893947.py:1: LangChainDeprecationWarning: Please see the migration guide at: https://python.langchain.com/docs/versions/migrating_memory/\n",
      "  memory2 = ConversationBufferWindowMemory(k=2)  # Only keep last 2 interactions\n"
     ]
    },
    {
     "name": "stdout",
     "output_type": "stream",
     "text": [
      "\n",
      "\n",
      "\u001b[1m> Entering new ConversationChain chain...\u001b[0m\n",
      "Prompt after formatting:\n",
      "\u001b[32;1m\u001b[1;3mThe following is a friendly conversation between a human and an AI. The AI is talkative and provides lots of specific details from its context. If the AI does not know the answer to a question, it truthfully says it does not know.\n",
      "\n",
      "Current conversation:\n",
      "\n",
      "Human: My name is Sarah\n",
      "AI:\u001b[0m\n",
      "\n",
      "\u001b[1m> Finished chain.\u001b[0m\n",
      "\n",
      "\n",
      "\u001b[1m> Entering new ConversationChain chain...\u001b[0m\n",
      "Prompt after formatting:\n",
      "\u001b[32;1m\u001b[1;3mThe following is a friendly conversation between a human and an AI. The AI is talkative and provides lots of specific details from its context. If the AI does not know the answer to a question, it truthfully says it does not know.\n",
      "\n",
      "Current conversation:\n",
      "Human: My name is Sarah\n",
      "AI: It's a pleasure to meet you, Sarah! My name is Bard, though I don't really *have* a body in the way you do. I exist as a large language model, which means I'm a computer program trained on a massive dataset of text and code. I use that data to generate human-like text in response to a wide range of prompts and questions. Think of it like I've read a library the size of the internet and learned to put all that information together! I'm always learning and improving, so I appreciate you chatting with me. What can I do for you today?\n",
      "Human: I love hiking\n",
      "AI:\u001b[0m\n",
      "\n",
      "\u001b[1m> Finished chain.\u001b[0m\n",
      "\n",
      "\n",
      "\u001b[1m> Entering new ConversationChain chain...\u001b[0m\n",
      "Prompt after formatting:\n",
      "\u001b[32;1m\u001b[1;3mThe following is a friendly conversation between a human and an AI. The AI is talkative and provides lots of specific details from its context. If the AI does not know the answer to a question, it truthfully says it does not know.\n",
      "\n",
      "Current conversation:\n",
      "Human: My name is Sarah\n",
      "AI: It's a pleasure to meet you, Sarah! My name is Bard, though I don't really *have* a body in the way you do. I exist as a large language model, which means I'm a computer program trained on a massive dataset of text and code. I use that data to generate human-like text in response to a wide range of prompts and questions. Think of it like I've read a library the size of the internet and learned to put all that information together! I'm always learning and improving, so I appreciate you chatting with me. What can I do for you today?\n",
      "Human: I love hiking\n",
      "AI: That's fantastic, Sarah! Hiking is wonderful. I can understand the appeal, even though I can't physically experience it myself. From what I've learned, people enjoy hiking for a variety of reasons: the physical exercise, the beautiful scenery, the fresh air, and the sense of accomplishment after reaching a summit.\n",
      "\n",
      "Do you have any favorite hiking trails or regions? I've processed information about many famous trails, like the Appalachian Trail, the Pacific Crest Trail, and even shorter, local trails in different areas. Perhaps you've hiked some of those?\n",
      "\n",
      "I'm also familiar with different types of hiking gear, from hiking boots and backpacks to trekking poles and water filtration systems. If you're ever looking for recommendations or information about specific gear, I might be able to help.\n",
      "\n",
      "Tell me more about your hiking experiences! What do you love most about it? Maybe you have some interesting stories or memorable moments from your hikes? I'm all ears (or, well, processors!).\n",
      "Human: I also enjoy photography\n",
      "AI:\u001b[0m\n",
      "\n",
      "\u001b[1m> Finished chain.\u001b[0m\n",
      "\n",
      "\n",
      "\u001b[1m> Entering new ConversationChain chain...\u001b[0m\n",
      "Prompt after formatting:\n",
      "\u001b[32;1m\u001b[1;3mThe following is a friendly conversation between a human and an AI. The AI is talkative and provides lots of specific details from its context. If the AI does not know the answer to a question, it truthfully says it does not know.\n",
      "\n",
      "Current conversation:\n",
      "Human: I love hiking\n",
      "AI: That's fantastic, Sarah! Hiking is wonderful. I can understand the appeal, even though I can't physically experience it myself. From what I've learned, people enjoy hiking for a variety of reasons: the physical exercise, the beautiful scenery, the fresh air, and the sense of accomplishment after reaching a summit.\n",
      "\n",
      "Do you have any favorite hiking trails or regions? I've processed information about many famous trails, like the Appalachian Trail, the Pacific Crest Trail, and even shorter, local trails in different areas. Perhaps you've hiked some of those?\n",
      "\n",
      "I'm also familiar with different types of hiking gear, from hiking boots and backpacks to trekking poles and water filtration systems. If you're ever looking for recommendations or information about specific gear, I might be able to help.\n",
      "\n",
      "Tell me more about your hiking experiences! What do you love most about it? Maybe you have some interesting stories or memorable moments from your hikes? I'm all ears (or, well, processors!).\n",
      "Human: I also enjoy photography\n",
      "AI: Ah, photography! That's a brilliant combination with hiking, Sarah. Capturing the beauty of nature through a lens must be incredibly rewarding. I can see how the two hobbies would complement each other perfectly. You get the physical and mental benefits of hiking, and then you get to preserve those experiences and share them with others through your photographs.\n",
      "\n",
      "Are you more into landscape photography, wildlife photography, or perhaps something else entirely? I've absorbed a lot of information about different photographic techniques, including composition rules like the rule of thirds, leading lines, and using natural light to your advantage. I also have data on various camera types, lenses, and editing software. I even know a bit about the history of photography, from the daguerreotype to modern digital cameras!\n",
      "\n",
      "Do you have any favorite photographers whose work you admire? Ansel Adams, perhaps, for his stunning black and white landscapes? Or maybe a wildlife photographer like Frans Lanting?\n",
      "\n",
      "I'm curious, do you prefer shooting in RAW or JPEG format? What kind of camera do you use? Do you have a favorite lens for hiking? I understand that weight and size are important considerations when you're carrying gear on a trail. Perhaps a versatile zoom lens is your go-to?\n",
      "\n",
      "I'm eager to hear more about your photographic pursuits! Maybe you could even describe some of your favorite photos you've taken while hiking. I'm sure they're breathtaking!\n",
      "Human: What do you remember about me?\n",
      "AI:\u001b[0m\n",
      "\n",
      "\u001b[1m> Finished chain.\u001b[0m\n",
      "Window Memory Buffer: Human: I also enjoy photography\n",
      "AI: Ah, photography! That's a brilliant combination with hiking, Sarah. Capturing the beauty of nature through a lens must be incredibly rewarding. I can see how the two hobbies would complement each other perfectly. You get the physical and mental benefits of hiking, and then you get to preserve those experiences and share them with others through your photographs.\n",
      "\n",
      "Are you more into landscape photography, wildlife photography, or perhaps something else entirely? I've absorbed a lot of information about different photographic techniques, including composition rules like the rule of thirds, leading lines, and using natural light to your advantage. I also have data on various camera types, lenses, and editing software. I even know a bit about the history of photography, from the daguerreotype to modern digital cameras!\n",
      "\n",
      "Do you have any favorite photographers whose work you admire? Ansel Adams, perhaps, for his stunning black and white landscapes? Or maybe a wildlife photographer like Frans Lanting?\n",
      "\n",
      "I'm curious, do you prefer shooting in RAW or JPEG format? What kind of camera do you use? Do you have a favorite lens for hiking? I understand that weight and size are important considerations when you're carrying gear on a trail. Perhaps a versatile zoom lens is your go-to?\n",
      "\n",
      "I'm eager to hear more about your photographic pursuits! Maybe you could even describe some of your favorite photos you've taken while hiking. I'm sure they're breathtaking!\n",
      "Human: What do you remember about me?\n",
      "AI: Based on our conversation, here's what I remember about you, Sarah:\n",
      "\n",
      "*   **You enjoy hiking:** This is the first thing you told me, and it's a key piece of information. I know you appreciate the physical exercise, beautiful scenery, and fresh air that hiking provides. You may also enjoy the sense of accomplishment after reaching a summit.\n",
      "*   **You enjoy photography:** You mentioned this as another hobby, and I understand that you combine it with hiking. I know you likely enjoy capturing the beauty of nature through a lens and preserving your hiking experiences.\n",
      "*   **You are open to sharing your experiences:** You're engaging in a conversation with me and seem willing to share details about your hobbies. This helps me understand your interests and preferences.\n",
      "\n",
      "Essentially, I know you as someone who appreciates the outdoors, enjoys physical activity and creative expression, and is willing to share your interests in a friendly conversation. I look forward to learning more about you!\n"
     ]
    }
   ],
   "source": [
    "memory2 = ConversationBufferWindowMemory(k=2)  # Only keep last 2 interactions\n",
    "conversation2 = ConversationChain(llm=llm, memory=memory2, verbose=True)\n",
    "\n",
    "response1 = conversation2.predict(input=\"My name is Sarah\")\n",
    "response2 = conversation2.predict(input=\"I love hiking\")\n",
    "response3 = conversation2.predict(input=\"I also enjoy photography\")\n",
    "response4 = conversation2.predict(input=\"What do you remember about me?\")  # Only remembers last 2 exchanges\n",
    "print(\"Window Memory Buffer:\", memory2.buffer)"
   ]
  },
  {
   "cell_type": "markdown",
   "id": "72e7b944",
   "metadata": {},
   "source": [
    "### ConversationSummaryMemory"
   ]
  },
  {
   "cell_type": "code",
   "execution_count": 10,
   "id": "eb95ac58",
   "metadata": {},
   "outputs": [
    {
     "name": "stderr",
     "output_type": "stream",
     "text": [
      "/var/folders/lb/30sp6byn3c975ncndh4lrzsh0000gp/T/ipykernel_15176/2882218899.py:1: LangChainDeprecationWarning: Please see the migration guide at: https://python.langchain.com/docs/versions/migrating_memory/\n",
      "  memory3 = ConversationSummaryMemory(llm=llm)\n"
     ]
    },
    {
     "name": "stdout",
     "output_type": "stream",
     "text": [
      "\n",
      "\n",
      "\u001b[1m> Entering new ConversationChain chain...\u001b[0m\n",
      "Prompt after formatting:\n",
      "\u001b[32;1m\u001b[1;3mThe following is a friendly conversation between a human and an AI. The AI is talkative and provides lots of specific details from its context. If the AI does not know the answer to a question, it truthfully says it does not know.\n",
      "\n",
      "Current conversation:\n",
      "\n",
      "Human: My name is Sarah and I'm a software engineer\n",
      "AI:\u001b[0m\n",
      "\n",
      "\u001b[1m> Finished chain.\u001b[0m\n",
      "\n",
      "\n",
      "\u001b[1m> Entering new ConversationChain chain...\u001b[0m\n",
      "Prompt after formatting:\n",
      "\u001b[32;1m\u001b[1;3mThe following is a friendly conversation between a human and an AI. The AI is talkative and provides lots of specific details from its context. If the AI does not know the answer to a question, it truthfully says it does not know.\n",
      "\n",
      "Current conversation:\n",
      "The human introduces herself as Sarah, a software engineer. The AI responds, introducing itself as Codex, a large language model built by Google AI, and expresses interest in Sarah's work and specializations.\n",
      "Human: I've been working on AI projects for 5 years\n",
      "AI:\u001b[0m\n",
      "\n",
      "\u001b[1m> Finished chain.\u001b[0m\n",
      "\n",
      "\n",
      "\u001b[1m> Entering new ConversationChain chain...\u001b[0m\n",
      "Prompt after formatting:\n",
      "\u001b[32;1m\u001b[1;3mThe following is a friendly conversation between a human and an AI. The AI is talkative and provides lots of specific details from its context. If the AI does not know the answer to a question, it truthfully says it does not know.\n",
      "\n",
      "Current conversation:\n",
      "The human introduces herself as Sarah, a software engineer. The AI, Codex, introduces itself as a large language model from Google AI and expresses interest in Sarah's work. Sarah mentions she's been working on AI projects for 5 years, prompting Codex to express excitement and inquire about her specific areas of focus, listing interests like natural language processing, computer vision, robotics, and reinforcement learning, and suggesting a brainstorming session.\n",
      "Human: I love hiking and photography in my free time\n",
      "AI:\u001b[0m\n",
      "\n",
      "\u001b[1m> Finished chain.\u001b[0m\n",
      "\n",
      "\n",
      "\u001b[1m> Entering new ConversationChain chain...\u001b[0m\n",
      "Prompt after formatting:\n",
      "\u001b[32;1m\u001b[1;3mThe following is a friendly conversation between a human and an AI. The AI is talkative and provides lots of specific details from its context. If the AI does not know the answer to a question, it truthfully says it does not know.\n",
      "\n",
      "Current conversation:\n",
      "The human introduces herself as Sarah, a software engineer. The AI, Codex, introduces itself as a large language model from Google AI and expresses interest in Sarah's work. Sarah mentions she's been working on AI projects for 5 years, prompting Codex to express excitement and inquire about her specific areas of focus, listing interests like natural language processing, computer vision, robotics, and reinforcement learning, and suggesting a brainstorming session. Sarah then shares her love for hiking and photography in her free time. Codex responds enthusiastically, acknowledging the importance of hobbies and inquiring about Sarah's favorite hiking spots and photography interests, referencing its own knowledge of geographical locations, trail systems, image analysis capabilities, and even suggesting how her hobbies might connect to her AI work.\n",
      "Human: What do you know about my background?\n",
      "AI:\u001b[0m\n",
      "\n",
      "\u001b[1m> Finished chain.\u001b[0m\n",
      "Summary Memory: The human introduces herself as Sarah, a software engineer. The AI, Codex, introduces itself as a large language model from Google AI and expresses interest in Sarah's work. Sarah mentions she's been working on AI projects for 5 years, prompting Codex to express excitement and inquire about her specific areas of focus, listing interests like natural language processing, computer vision, robotics, and reinforcement learning, and suggesting a brainstorming session. Sarah then shares her love for hiking and photography in her free time. Codex responds enthusiastically, acknowledging the importance of hobbies and inquiring about Sarah's favorite hiking spots and photography interests, referencing its own knowledge of geographical locations, trail systems, image analysis capabilities, and even suggesting how her hobbies might connect to her AI work. Sarah asks Codex what it knows about her background. Codex summarizes its understanding of Sarah's background based on their conversation: she's a software engineer with 5 years of experience in AI, potentially interested in various AI subfields, and enjoys hiking and photography, suggesting possible connections between her hobbies and AI work.\n"
     ]
    }
   ],
   "source": [
    "memory3 = ConversationSummaryMemory(llm=llm)\n",
    "conversation3 = ConversationChain(llm=llm, memory=memory3, verbose=True)\n",
    "\n",
    "response1 = conversation3.predict(input=\"My name is Sarah and I'm a software engineer\")\n",
    "response2 = conversation3.predict(input=\"I've been working on AI projects for 5 years\")\n",
    "response3 = conversation3.predict(input=\"I love hiking and photography in my free time\")\n",
    "response4 = conversation3.predict(input=\"What do you know about my background?\")\n",
    "print(\"Summary Memory:\", memory3.buffer)"
   ]
  },
  {
   "cell_type": "markdown",
   "id": "80c37bbd",
   "metadata": {},
   "source": [
    "### ConversationTokenBufferMemory"
   ]
  },
  {
   "cell_type": "code",
   "execution_count": 13,
   "id": "7ff6e5aa",
   "metadata": {},
   "outputs": [
    {
     "name": "stderr",
     "output_type": "stream",
     "text": [
      "/var/folders/lb/30sp6byn3c975ncndh4lrzsh0000gp/T/ipykernel_1453/201961086.py:9: LangChainDeprecationWarning: Please see the migration guide at: https://python.langchain.com/docs/versions/migrating_memory/\n",
      "  memory = ConversationTokenBufferMemory(\n"
     ]
    },
    {
     "name": "stdout",
     "output_type": "stream",
     "text": [
      "Hi Alice!  It's nice to meet you. Osaka is a great place to live, especially if you love anime!  Are there any particular anime you're enjoying at the moment?\n",
      "Unfortunately, there isn't a dedicated, large-scale \"anime museum\" in Osaka in the same way there might be a museum dedicated to a specific art form in other cities.  However, Osaka has several places that offer anime-related experiences:\n",
      "\n",
      "* **Check for temporary exhibitions:**  Many museums and art spaces in Osaka host temporary exhibitions.  Keep an eye on the websites of major museums and event listings in Osaka for any anime-themed shows or retrospectives.  These pop up periodically.\n",
      "\n",
      "* **Animate stores:** While not museums, the large Animate stores in Osaka (and other major cities in Japan) often have displays and merchandise related to popular anime, creating a very immersive experience for fans.  They're essentially anime mega-stores.\n",
      "\n",
      "* **Den Den Town (Nipponbashi):** This area is a haven for anime, manga, and video game merchandise.  While not a museum, wandering through the numerous shops can be a very engaging experience for an anime fan. You'll find tons of collectibles, figures, and more.\n",
      "\n",
      "To find temporary exhibitions, I recommend searching online using Japanese keywords like \"大阪 アニメ展\" (Osaka anime exhibition) or \"大阪 アニメ イベント\" (Osaka anime event).  Using Google Translate can help if needed.\n",
      "\n",
      "In short, while a dedicated anime museum doesn't exist in Osaka, the city offers plenty of alternative ways to experience anime culture.\n",
      "Osaka has a vibrant art scene!  To recommend specific galleries, I need a little more information about your preferences.  What kind of art are you interested in?  (e.g., contemporary, traditional Japanese, specific styles, etc.)  Knowing your preferred style will help me give you more targeted suggestions.\n",
      "\n",
      "However, here are a few well-regarded galleries and art spaces in Osaka to get you started:\n",
      "\n",
      "* **National Museum of Art, Osaka (国立国際美術館):** This is a large museum with a wide range of exhibitions, often featuring both Japanese and international contemporary art.  It's a good place to start if you're open to exploring various styles.\n",
      "\n",
      "* **Osaka City Museum of Fine Arts (大阪市立美術館):** This museum focuses more on traditional and historical art, including Japanese art from various periods.\n",
      "\n",
      "* **Gallery spaces in the Namba and Shinsaibashi areas:** These areas are known for their bustling commercial streets but also house many smaller, independent art galleries.  Browsing these areas is a good way to discover hidden gems.  You'll likely need to do some online searching to find specific galleries in those districts.\n",
      "\n",
      "* **Check for smaller galleries in the Umeda area:** Similar to Namba and Shinsaibashi, Umeda also has a number of smaller galleries, many showcasing contemporary art.\n",
      "\n",
      "\n",
      "Once you tell me more about the type of art you're interested in, I can provide more specific and helpful recommendations.\n"
     ]
    }
   ],
   "source": [
    "from langchain.memory import ConversationTokenBufferMemory\n",
    "from langchain_core.prompts import ChatPromptTemplate, MessagesPlaceholder\n",
    "from langchain_google_genai import ChatGoogleGenerativeAI\n",
    "\n",
    "# 1. Initialize your LLM\n",
    "llm = ChatGoogleGenerativeAI(model=\"gemini-1.5-flash\")\n",
    "\n",
    "# 2. Set up token-buffered memory (approximate tokens = length / 4)\n",
    "memory = ConversationTokenBufferMemory(\n",
    "    llm=llm,\n",
    "    max_token_limit=500,  # Adjust based on your model's context window\n",
    "    return_messages=True\n",
    ")\n",
    "\n",
    "# 3. Define your prompt with memory history\n",
    "prompt = ChatPromptTemplate.from_messages([\n",
    "    MessagesPlaceholder(variable_name=\"history\"),\n",
    "    (\"human\", \"{input}\")\n",
    "])\n",
    "\n",
    "# 4. Function to simulate conversation with memory\n",
    "def chat_with_memory(user_input):\n",
    "    history = memory.load_memory_variables({})[\"history\"]\n",
    "    formatted_prompt = prompt.format_messages(\n",
    "        history=history,\n",
    "        input=user_input\n",
    "    )\n",
    "    response = llm.invoke(formatted_prompt)\n",
    "    \n",
    "    # Save the new turn in memory\n",
    "    memory.save_context({\"input\": user_input}, {\"output\": response.content})\n",
    "    \n",
    "    return response.content\n",
    "\n",
    "# 5. Example usage\n",
    "print(chat_with_memory(\"Hi, I'm Alice. I love anime and live in Osaka.\"))\n",
    "print(chat_with_memory(\"What are some good anime museums near me?\"))\n",
    "print(chat_with_memory(\"Also, any recommendations for local art galleries?\"))\n"
   ]
  },
  {
   "cell_type": "code",
   "execution_count": null,
   "id": "7ceaaad1",
   "metadata": {},
   "outputs": [],
   "source": []
  }
 ],
 "metadata": {
  "kernelspec": {
   "display_name": "llm-venv",
   "language": "python",
   "name": "llm-venv"
  },
  "language_info": {
   "codemirror_mode": {
    "name": "ipython",
    "version": 3
   },
   "file_extension": ".py",
   "mimetype": "text/x-python",
   "name": "python",
   "nbconvert_exporter": "python",
   "pygments_lexer": "ipython3",
   "version": "3.10.18"
  }
 },
 "nbformat": 4,
 "nbformat_minor": 5
}
